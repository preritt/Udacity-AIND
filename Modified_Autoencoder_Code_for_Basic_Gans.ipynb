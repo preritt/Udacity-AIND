{
  "nbformat": 4,
  "nbformat_minor": 0,
  "metadata": {
    "colab": {
      "name": "Modified Autoencoder Code for Basic Gans.ipynb",
      "version": "0.3.2",
      "provenance": [],
      "collapsed_sections": [],
      "include_colab_link": true
    },
    "kernelspec": {
      "name": "python3",
      "display_name": "Python 3"
    },
    "accelerator": "GPU"
  },
  "cells": [
    {
      "cell_type": "markdown",
      "metadata": {
        "id": "view-in-github",
        "colab_type": "text"
      },
      "source": [
        "<a href=\"https://colab.research.google.com/github/preritt/Udacity-AIND/blob/master/Modified_Autoencoder_Code_for_Basic_Gans.ipynb\" target=\"_parent\"><img src=\"https://colab.research.google.com/assets/colab-badge.svg\" alt=\"Open In Colab\"/></a>"
      ]
    },
    {
      "metadata": {
        "id": "plA-DhxVXFkh",
        "colab_type": "code",
        "colab": {}
      },
      "cell_type": "code",
      "source": [
        "import tensorflow as tf\n",
        "from tensorflow.examples.tutorials.mnist import input_data\n",
        "import numpy as np\n",
        "import matplotlib.pyplot as plt\n",
        "import matplotlib.gridspec as gridspec\n",
        "import os"
      ],
      "execution_count": 0,
      "outputs": []
    },
    {
      "metadata": {
        "id": "8jTQ5711XNPW",
        "colab_type": "code",
        "colab": {}
      },
      "cell_type": "code",
      "source": [
        "def xavier_init(size):\n",
        "    in_dim = size[0]\n",
        "    xavier_stddev = 1. / tf.sqrt(in_dim / 2.)\n",
        "    return tf.random_normal(shape=size, stddev=xavier_stddev)"
      ],
      "execution_count": 0,
      "outputs": []
    },
    {
      "metadata": {
        "id": "mZUeneVyXPBO",
        "colab_type": "code",
        "outputId": "c0386ffe-cf05-48a8-c757-5893d9d40d7e",
        "colab": {
          "base_uri": "https://localhost:8080/",
          "height": 92
        }
      },
      "cell_type": "code",
      "source": [
        "X = tf.placeholder(tf.float32, shape=[None, 784])\n",
        "\n",
        "D_W1 = tf.Variable(xavier_init([784, 128]))\n",
        "D_b1 = tf.Variable(tf.zeros(shape=[128]))\n",
        "\n",
        "D_W2 = tf.Variable(xavier_init([128, 1]))\n",
        "D_b2 = tf.Variable(tf.zeros(shape=[1]))\n",
        "\n",
        "theta_D = [D_W1, D_W2, D_b1, D_b2]\n"
      ],
      "execution_count": 3,
      "outputs": [
        {
          "output_type": "stream",
          "text": [
            "WARNING:tensorflow:From /usr/local/lib/python3.6/dist-packages/tensorflow/python/framework/op_def_library.py:263: colocate_with (from tensorflow.python.framework.ops) is deprecated and will be removed in a future version.\n",
            "Instructions for updating:\n",
            "Colocations handled automatically by placer.\n"
          ],
          "name": "stdout"
        }
      ]
    },
    {
      "metadata": {
        "id": "VCl2bIqxXRZZ",
        "colab_type": "code",
        "colab": {}
      },
      "cell_type": "code",
      "source": [
        "Z = tf.placeholder(tf.float32, shape=[None, 784])\n",
        "\n",
        "G_W1 = tf.Variable(xavier_init([784, 128]))\n",
        "G_b1 = tf.Variable(tf.zeros(shape=[128]))\n",
        "\n",
        "G_W2 = tf.Variable(xavier_init([128, 128]))\n",
        "G_b2 = tf.Variable(tf.zeros(shape=[128]))\n",
        "\n",
        "G_W3 = tf.Variable(xavier_init([128, 128]))\n",
        "G_b3 = tf.Variable(tf.zeros(shape=[128]))\n",
        "\n",
        "G_W4 = tf.Variable(xavier_init([128, 784]))\n",
        "G_b4 = tf.Variable(tf.zeros(shape=[784]))\n",
        "\n",
        "theta_G = [G_W1, G_W2, G_b1, G_b2, G_W3, G_b3,G_W4, G_b4]"
      ],
      "execution_count": 0,
      "outputs": []
    },
    {
      "metadata": {
        "id": "ugfqigZzXUWw",
        "colab_type": "code",
        "colab": {}
      },
      "cell_type": "code",
      "source": [
        "def sample_Z(m, n):\n",
        "    return np.random.uniform(-1., 1., size=[m, n])"
      ],
      "execution_count": 0,
      "outputs": []
    },
    {
      "metadata": {
        "id": "H1fb334hXWPj",
        "colab_type": "code",
        "colab": {}
      },
      "cell_type": "code",
      "source": [
        "def generator(z):\n",
        "    G_h1 = tf.nn.relu(tf.matmul(z, G_W1) + G_b1)\n",
        "    G_h2 = tf.nn.relu(tf.matmul(G_h1, G_W2) + G_b2) # encoded value\n",
        "    G_h3 = tf.nn.relu(tf.matmul(G_h2, G_W3) + G_b3)\n",
        "    logits = tf.matmul(G_h3, G_W4) + G_b4\n",
        "    G_prob = tf.nn.sigmoid(logits)\n",
        "\n",
        "    return G_prob, logits"
      ],
      "execution_count": 0,
      "outputs": []
    },
    {
      "metadata": {
        "id": "BnqZkgx2XX1b",
        "colab_type": "code",
        "colab": {}
      },
      "cell_type": "code",
      "source": [
        "def discriminator(x):\n",
        "    D_h1 = tf.nn.relu(tf.matmul(x, D_W1) + D_b1)\n",
        "    D_logit = tf.matmul(D_h1, D_W2) + D_b2\n",
        "    D_prob = tf.nn.sigmoid(D_logit)\n",
        "\n",
        "    return D_prob, D_logit"
      ],
      "execution_count": 0,
      "outputs": []
    },
    {
      "metadata": {
        "id": "LUS5x_QjXZiP",
        "colab_type": "code",
        "colab": {}
      },
      "cell_type": "code",
      "source": [
        "def plot(samples):\n",
        "    fig = plt.figure(figsize=(4, 4))\n",
        "    gs = gridspec.GridSpec(4, 4)\n",
        "    gs.update(wspace=0.05, hspace=0.05)\n",
        "\n",
        "    for i, sample in enumerate(samples):\n",
        "        ax = plt.subplot(gs[i])\n",
        "        plt.axis('off')\n",
        "        ax.set_xticklabels([])\n",
        "        ax.set_yticklabels([])\n",
        "        ax.set_aspect('equal')\n",
        "        plt.imshow(sample.reshape(28, 28), cmap='Greys_r')\n",
        "\n",
        "    return fig"
      ],
      "execution_count": 0,
      "outputs": []
    },
    {
      "metadata": {
        "id": "YuoljUAjXbar",
        "colab_type": "code",
        "colab": {}
      },
      "cell_type": "code",
      "source": [
        "G_fake_decoded_prob, G_fake_decoded_logits = generator(X)\n",
        "D_real, D_logit_real = discriminator(X)\n",
        "D_fake, D_logit_fake = discriminator(G_fake_decoded_prob)\n",
        "\n",
        "# D_loss = -tf.reduce_mean(tf.log(D_real) + tf.log(1. - D_fake))\n",
        "# G_loss = -tf.reduce_mean(tf.log(D_fake))"
      ],
      "execution_count": 0,
      "outputs": []
    },
    {
      "metadata": {
        "id": "JeV4RyWZXdfH",
        "colab_type": "code",
        "colab": {}
      },
      "cell_type": "code",
      "source": [
        "# Alternative losses:\n",
        "# -------------------\n",
        "D_loss_real = tf.reduce_mean(tf.nn.sigmoid_cross_entropy_with_logits(logits=D_logit_real, labels=tf.ones_like(D_logit_real)))\n",
        "D_loss_fake = tf.reduce_mean(tf.nn.sigmoid_cross_entropy_with_logits(logits=D_logit_fake, labels=tf.zeros_like(D_logit_fake)))\n",
        "D_loss = D_loss_real + D_loss_fake\n",
        "G_loss = tf.reduce_mean(tf.nn.sigmoid_cross_entropy_with_logits(logits=D_logit_fake, labels=tf.ones_like(D_logit_fake)))\n",
        "\n",
        "recon_loss = tf.reduce_mean(tf.nn.sigmoid_cross_entropy_with_logits(logits=G_fake_decoded_logits, labels=X))\n",
        "G_loss = G_loss + 20*recon_loss\n",
        "\n",
        "D_solver = tf.train.AdamOptimizer().minimize(D_loss, var_list=theta_D)\n",
        "G_solver = tf.train.AdamOptimizer().minimize(G_loss, var_list=theta_G)\n"
      ],
      "execution_count": 0,
      "outputs": []
    },
    {
      "metadata": {
        "id": "EPPTsbbyXf62",
        "colab_type": "code",
        "colab": {
          "base_uri": "https://localhost:8080/",
          "height": 90
        },
        "outputId": "6f973c94-0c4d-489d-a903-57ccab2b48ff"
      },
      "cell_type": "code",
      "source": [
        "mb_size = 128\n",
        "Z_dim = 784\n",
        "\n",
        "mnist = input_data.read_data_sets('../../MNIST_data', one_hot=True)\n",
        "\n",
        "sess = tf.Session()\n",
        "sess.run(tf.global_variables_initializer())\n",
        "\n",
        "if not os.path.exists('out/'):\n",
        "    os.makedirs('out/')"
      ],
      "execution_count": 47,
      "outputs": [
        {
          "output_type": "stream",
          "text": [
            "Extracting ../../MNIST_data/train-images-idx3-ubyte.gz\n",
            "Extracting ../../MNIST_data/train-labels-idx1-ubyte.gz\n",
            "Extracting ../../MNIST_data/t10k-images-idx3-ubyte.gz\n",
            "Extracting ../../MNIST_data/t10k-labels-idx1-ubyte.gz\n"
          ],
          "name": "stdout"
        }
      ]
    },
    {
      "metadata": {
        "id": "JUEHL_CRooMb",
        "colab_type": "code",
        "colab": {}
      },
      "cell_type": "code",
      "source": [
        "i=0"
      ],
      "execution_count": 0,
      "outputs": []
    },
    {
      "metadata": {
        "id": "Q5qF8gPqooKh",
        "colab_type": "code",
        "colab": {
          "base_uri": "https://localhost:8080/",
          "height": 563
        },
        "outputId": "ecbd3770-32eb-4fad-b584-6dec0d516395"
      },
      "cell_type": "code",
      "source": [
        "for it in range(50000):\n",
        "    X_mb, _ = mnist.train.next_batch(mb_size)\n",
        "#     z_mb = np.random.randn(mb_size, z_dim)\n",
        "\n",
        "#     _, recon_loss_curr = sess.run([G_solver, recon_loss], feed_dict={X: X_mb})\n",
        "    _, D_loss_curr, recon_loss_curr = sess.run([D_solver, D_loss, recon_loss], feed_dict={X: X_mb})\n",
        "    _, G_loss_curr = sess.run([G_solver, G_loss], feed_dict={X: X_mb})\n",
        "\n",
        "    if it % 1000 == 0:\n",
        "        print('Iter: {}; D_loss: {:.4}; G_loss: {:.4}; Recon_loss: {:.4}'\n",
        "              .format(it, D_loss_curr, G_loss_curr, recon_loss_curr))\n",
        "\n",
        "        samples = sess.run(G_fake_decoded_prob, feed_dict={X: np.reshape(X_mb[1], newshape=(1,-1))})\n",
        "\n",
        "        fig = plot(samples)\n",
        "        plt.savefig('out/{}.png'.format(str(i).zfill(3)), bbox_inches='tight')\n",
        "        i += 1\n",
        "        plt.close(fig)"
      ],
      "execution_count": 0,
      "outputs": [
        {
          "output_type": "stream",
          "text": [
            "Iter: 0; D_loss: 2.175; G_loss: 15.86; Recon_loss: 0.7141\n",
            "Iter: 1000; D_loss: 1.365; G_loss: 2.735; Recon_loss: 0.09787\n",
            "Iter: 2000; D_loss: 1.344; G_loss: 2.332; Recon_loss: 0.08106\n",
            "Iter: 3000; D_loss: 1.388; G_loss: 2.31; Recon_loss: 0.08006\n",
            "Iter: 4000; D_loss: 1.365; G_loss: 2.228; Recon_loss: 0.0749\n",
            "Iter: 5000; D_loss: 1.372; G_loss: 2.218; Recon_loss: 0.07473\n",
            "Iter: 6000; D_loss: 1.371; G_loss: 2.169; Recon_loss: 0.073\n",
            "Iter: 7000; D_loss: 1.363; G_loss: 2.15; Recon_loss: 0.07273\n",
            "Iter: 8000; D_loss: 1.394; G_loss: 2.177; Recon_loss: 0.07312\n",
            "Iter: 9000; D_loss: 1.39; G_loss: 2.193; Recon_loss: 0.0734\n",
            "Iter: 10000; D_loss: 1.361; G_loss: 2.101; Recon_loss: 0.07009\n",
            "Iter: 11000; D_loss: 1.363; G_loss: 2.203; Recon_loss: 0.07477\n",
            "Iter: 12000; D_loss: 1.359; G_loss: 2.209; Recon_loss: 0.07394\n",
            "Iter: 13000; D_loss: 1.373; G_loss: 2.173; Recon_loss: 0.07221\n",
            "Iter: 14000; D_loss: 1.364; G_loss: 2.15; Recon_loss: 0.07178\n",
            "Iter: 15000; D_loss: 1.358; G_loss: 2.147; Recon_loss: 0.07191\n",
            "Iter: 16000; D_loss: 1.365; G_loss: 2.115; Recon_loss: 0.06946\n",
            "Iter: 17000; D_loss: 1.363; G_loss: 2.129; Recon_loss: 0.06956\n",
            "Iter: 18000; D_loss: 1.371; G_loss: 2.12; Recon_loss: 0.07178\n",
            "Iter: 19000; D_loss: 1.376; G_loss: 2.135; Recon_loss: 0.07033\n",
            "Iter: 20000; D_loss: 1.368; G_loss: 2.148; Recon_loss: 0.0711\n",
            "Iter: 21000; D_loss: 1.378; G_loss: 2.12; Recon_loss: 0.07164\n",
            "Iter: 22000; D_loss: 1.366; G_loss: 2.089; Recon_loss: 0.06922\n",
            "Iter: 23000; D_loss: 1.354; G_loss: 2.123; Recon_loss: 0.07038\n",
            "Iter: 24000; D_loss: 1.375; G_loss: 2.212; Recon_loss: 0.07402\n",
            "Iter: 25000; D_loss: 1.368; G_loss: 2.231; Recon_loss: 0.07554\n",
            "Iter: 26000; D_loss: 1.368; G_loss: 2.161; Recon_loss: 0.07177\n",
            "Iter: 27000; D_loss: 1.365; G_loss: 2.154; Recon_loss: 0.0708\n",
            "Iter: 28000; D_loss: 1.375; G_loss: 2.192; Recon_loss: 0.07278\n",
            "Iter: 29000; D_loss: 1.36; G_loss: 2.197; Recon_loss: 0.0733\n"
          ],
          "name": "stdout"
        }
      ]
    },
    {
      "metadata": {
        "id": "CpR6gGheooHJ",
        "colab_type": "code",
        "colab": {}
      },
      "cell_type": "code",
      "source": [
        ""
      ],
      "execution_count": 0,
      "outputs": []
    },
    {
      "metadata": {
        "id": "uiKvJzSFXkEZ",
        "colab_type": "code",
        "outputId": "6e4e8575-0559-407a-c789-cea016c28e73",
        "colab": {
          "base_uri": "https://localhost:8080/",
          "height": 3654
        }
      },
      "cell_type": "code",
      "source": [
        "i = 0\n",
        "\n",
        "DlossesTrack = []\n",
        "GlossesTrack = []\n",
        "losses = []\n",
        "for it in range(50000):\n",
        "    if it % 1000 == 0:\n",
        "        samples = sess.run(G_sample, feed_dict={X: sample_Z(16, Z_dim)})\n",
        "\n",
        "        fig = plot(samples)\n",
        "        plt.savefig('out/{}.png'.format(str(i).zfill(3)), bbox_inches='tight')\n",
        "        i += 1\n",
        "        plt.close(fig)\n",
        "\n",
        "    X_mb, _ = mnist.train.next_batch(mb_size)\n",
        "\n",
        "    _, D_loss_curr = sess.run([D_solver, D_loss], feed_dict={X: X_mb, Z: sample_Z(mb_size, Z_dim)})\n",
        "    _, G_loss_curr = sess.run([G_solver, G_loss], feed_dict={Z: sample_Z(mb_size, Z_dim)})\n",
        "#     print(D_loss)\n",
        "#     losses.append((D_loss_curr, G_loss_curr))\n",
        "#     DlossesTrack.append(D_loss_curr)\n",
        "#     GlossesTrack.append(G_loss)\n",
        "    if it % 1000 == 0:\n",
        "        losses.append((D_loss_curr, G_loss_curr))\n",
        "        print('Iter: {}'.format(it))\n",
        "        print('D loss: {:.4}'. format(D_loss_curr))\n",
        "        print('G_loss: {:.4}'.format(G_loss_curr))\n",
        "        print()"
      ],
      "execution_count": 0,
      "outputs": [
        {
          "output_type": "stream",
          "text": [
            "Iter: 0\n",
            "D loss: 0.6405\n",
            "G_loss: 2.151\n",
            "\n",
            "Iter: 1000\n",
            "D loss: 0.5933\n",
            "G_loss: 2.45\n",
            "\n",
            "Iter: 2000\n",
            "D loss: 0.7804\n",
            "G_loss: 2.524\n",
            "\n",
            "Iter: 3000\n",
            "D loss: 0.7889\n",
            "G_loss: 2.288\n",
            "\n",
            "Iter: 4000\n",
            "D loss: 0.607\n",
            "G_loss: 2.346\n",
            "\n",
            "Iter: 5000\n",
            "D loss: 0.7482\n",
            "G_loss: 2.442\n",
            "\n",
            "Iter: 6000\n",
            "D loss: 0.5621\n",
            "G_loss: 2.403\n",
            "\n",
            "Iter: 7000\n",
            "D loss: 0.7113\n",
            "G_loss: 2.499\n",
            "\n",
            "Iter: 8000\n",
            "D loss: 0.652\n",
            "G_loss: 2.107\n",
            "\n",
            "Iter: 9000\n",
            "D loss: 0.5281\n",
            "G_loss: 2.172\n",
            "\n",
            "Iter: 10000\n",
            "D loss: 0.5741\n",
            "G_loss: 2.146\n",
            "\n",
            "Iter: 11000\n",
            "D loss: 0.545\n",
            "G_loss: 2.338\n",
            "\n",
            "Iter: 12000\n",
            "D loss: 0.5209\n",
            "G_loss: 2.419\n",
            "\n",
            "Iter: 13000\n",
            "D loss: 0.6842\n",
            "G_loss: 2.366\n",
            "\n",
            "Iter: 14000\n",
            "D loss: 0.57\n",
            "G_loss: 2.397\n",
            "\n",
            "Iter: 15000\n",
            "D loss: 0.5508\n",
            "G_loss: 2.192\n",
            "\n",
            "Iter: 16000\n",
            "D loss: 0.6118\n",
            "G_loss: 2.362\n",
            "\n",
            "Iter: 17000\n",
            "D loss: 0.5899\n",
            "G_loss: 1.984\n",
            "\n",
            "Iter: 18000\n",
            "D loss: 0.5487\n",
            "G_loss: 2.096\n",
            "\n",
            "Iter: 19000\n",
            "D loss: 0.5302\n",
            "G_loss: 2.218\n",
            "\n",
            "Iter: 20000\n",
            "D loss: 0.5349\n",
            "G_loss: 2.215\n",
            "\n",
            "Iter: 21000\n",
            "D loss: 0.5996\n",
            "G_loss: 2.315\n",
            "\n",
            "Iter: 22000\n",
            "D loss: 0.5132\n",
            "G_loss: 2.336\n",
            "\n",
            "Iter: 23000\n",
            "D loss: 0.625\n",
            "G_loss: 2.738\n",
            "\n",
            "Iter: 24000\n",
            "D loss: 0.5924\n",
            "G_loss: 2.59\n",
            "\n",
            "Iter: 25000\n",
            "D loss: 0.6524\n",
            "G_loss: 2.579\n",
            "\n",
            "Iter: 26000\n",
            "D loss: 0.6615\n",
            "G_loss: 1.917\n",
            "\n",
            "Iter: 27000\n",
            "D loss: 0.6566\n",
            "G_loss: 2.047\n",
            "\n",
            "Iter: 28000\n",
            "D loss: 0.5297\n",
            "G_loss: 2.31\n",
            "\n",
            "Iter: 29000\n",
            "D loss: 0.5549\n",
            "G_loss: 2.818\n",
            "\n",
            "Iter: 30000\n",
            "D loss: 0.5735\n",
            "G_loss: 2.359\n",
            "\n",
            "Iter: 31000\n",
            "D loss: 0.6085\n",
            "G_loss: 2.173\n",
            "\n",
            "Iter: 32000\n",
            "D loss: 0.5623\n",
            "G_loss: 2.622\n",
            "\n",
            "Iter: 33000\n",
            "D loss: 0.488\n",
            "G_loss: 2.444\n",
            "\n",
            "Iter: 34000\n",
            "D loss: 0.5741\n",
            "G_loss: 2.587\n",
            "\n",
            "Iter: 35000\n",
            "D loss: 0.5997\n",
            "G_loss: 1.968\n",
            "\n",
            "Iter: 36000\n",
            "D loss: 0.7049\n",
            "G_loss: 2.291\n",
            "\n",
            "Iter: 37000\n",
            "D loss: 0.6331\n",
            "G_loss: 2.432\n",
            "\n",
            "Iter: 38000\n",
            "D loss: 0.504\n",
            "G_loss: 2.529\n",
            "\n",
            "Iter: 39000\n",
            "D loss: 0.6063\n",
            "G_loss: 2.465\n",
            "\n",
            "Iter: 40000\n",
            "D loss: 0.588\n",
            "G_loss: 2.602\n",
            "\n",
            "Iter: 41000\n",
            "D loss: 0.601\n",
            "G_loss: 2.478\n",
            "\n",
            "Iter: 42000\n",
            "D loss: 0.5242\n",
            "G_loss: 2.503\n",
            "\n",
            "Iter: 43000\n",
            "D loss: 0.5385\n",
            "G_loss: 2.969\n",
            "\n",
            "Iter: 44000\n",
            "D loss: 0.5773\n",
            "G_loss: 2.425\n",
            "\n",
            "Iter: 45000\n",
            "D loss: 0.6076\n",
            "G_loss: 2.897\n",
            "\n",
            "Iter: 46000\n",
            "D loss: 0.5535\n",
            "G_loss: 2.692\n",
            "\n",
            "Iter: 47000\n",
            "D loss: 0.4846\n",
            "G_loss: 2.585\n",
            "\n",
            "Iter: 48000\n",
            "D loss: 0.5776\n",
            "G_loss: 2.667\n",
            "\n",
            "Iter: 49000\n",
            "D loss: 0.5445\n",
            "G_loss: 2.629\n",
            "\n"
          ],
          "name": "stdout"
        }
      ]
    },
    {
      "metadata": {
        "id": "QrUheXDAedG4",
        "colab_type": "code",
        "outputId": "4362f696-3728-48b1-d6c4-ef83ed022bdb",
        "colab": {
          "base_uri": "https://localhost:8080/",
          "height": 381
        }
      },
      "cell_type": "code",
      "source": [
        "fig, ax = plt.subplots()\n",
        "losses = np.array(losses)\n",
        "plt.plot(losses.T[0], label='Discriminator')\n",
        "plt.plot(losses.T[1], label='Generator')\n",
        "plt.title(\"Training Losses\")\n",
        "plt.legend()"
      ],
      "execution_count": 0,
      "outputs": [
        {
          "output_type": "execute_result",
          "data": {
            "text/plain": [
              "<matplotlib.legend.Legend at 0x7fbeb4b05470>"
            ]
          },
          "metadata": {
            "tags": []
          },
          "execution_count": 31
        },
        {
          "output_type": "display_data",
          "data": {
            "image/png": "[encoded data removed]",
            "text/plain": [
              "<Figure size 576x396 with 1 Axes>"
            ]
          },
          "metadata": {
            "tags": []
          }
        }
      ]
    },
    {
      "metadata": {
        "id": "RuJl3FHvc7Le",
        "colab_type": "code",
        "outputId": "6c658164-5ce6-495d-ec95-1c0bd1995d7e",
        "colab": {
          "base_uri": "https://localhost:8080/",
          "height": 381
        }
      },
      "cell_type": "code",
      "source": [
        "fig, ax = plt.subplots()\n",
        "losses = np.array(losses)\n",
        "plt.plot(losses.T[0], label='Discriminator')\n",
        "plt.plot(losses.T[1], label='Generator')\n",
        "plt.title(\"Training Losses\")\n",
        "plt.legend()"
      ],
      "execution_count": 0,
      "outputs": [
        {
          "output_type": "execute_result",
          "data": {
            "text/plain": [
              "<matplotlib.legend.Legend at 0x7fbeb852c048>"
            ]
          },
          "metadata": {
            "tags": []
          },
          "execution_count": 29
        },
        {
          "output_type": "display_data",
          "data": {
            "image/png": "[encoded data removed]",
            "text/plain": [
              "<Figure size 576x396 with 1 Axes>"
            ]
          },
          "metadata": {
            "tags": []
          }
        }
      ]
    }
  ]
}